{
  "cells": [
    {
      "cell_type": "markdown",
      "metadata": {
        "id": "view-in-github",
        "colab_type": "text"
      },
      "source": [
        "<a href=\"https://colab.research.google.com/github/Haileyyyyyyyy/pytorchstudy/blob/main/GoogLeNet.ipynb\" target=\"_parent\"><img src=\"https://colab.research.google.com/assets/colab-badge.svg\" alt=\"Open In Colab\"/></a>"
      ]
    },
    {
      "cell_type": "code",
      "execution_count": null,
      "metadata": {
        "id": "ay2gGbnPJDR1"
      },
      "outputs": [],
      "source": [
        "import torch.nn as nn"
      ]
    },
    {
      "cell_type": "code",
      "execution_count": null,
      "metadata": {
        "id": "DeWHCA25JDR3"
      },
      "outputs": [],
      "source": [
        "# 인셉션 모듈 정의\n",
        "class InceptionModule(nn.Module):\n",
        "  # red 는 1x1을 통과시킨 직후라는뜻\n",
        "    def __init__(self, input_planes, n_channels1x1, n_channels3x3red, n_channels3x3, n_channels5x5red, n_channels5x5, pooling_planes):\n",
        "        super(InceptionModule, self).__init__()\n",
        "        # 1x1 컨볼루션\n",
        "        self.block1 = nn.Sequential(\n",
        "            nn.Conv2d(input_planes, n_channels1x1, kernel_size=1),\n",
        "            nn.BatchNorm2d(n_channels1x1),\n",
        "            nn.ReLU(True),\n",
        "        )\n",
        " \n",
        "        # 1x1 convolution -> 3x3 convolution branch (1x1병목계층)\n",
        "        self.block2 = nn.Sequential(\n",
        "            nn.Conv2d(input_planes, n_channels3x3red, kernel_size=1),\n",
        "            nn.BatchNorm2d(n_channels3x3red),\n",
        "            nn.ReLU(True),\n",
        "            nn.Conv2d(n_channels3x3red, n_channels3x3, kernel_size=3, padding=1),\n",
        "            nn.BatchNorm2d(n_channels3x3),\n",
        "            nn.ReLU(True),\n",
        "        )\n",
        " \n",
        "        # 1x1 conv -> 5x5 conv branch (1x1병목계층) -> !!! 5x5를 한번에 쓰지 않고 3x3을 두번 사용하는 형태로 변경\n",
        "        self.block3 = nn.Sequential(\n",
        "            nn.Conv2d(input_planes, n_channels5x5red, kernel_size=1),\n",
        "            nn.BatchNorm2d(n_channels5x5red),\n",
        "            nn.ReLU(True),\n",
        "            nn.Conv2d(n_channels5x5red, n_channels5x5, kernel_size=3, padding=1),\n",
        "            nn.BatchNorm2d(n_channels5x5),\n",
        "            nn.ReLU(True),\n",
        "            nn.Conv2d(n_channels5x5, n_channels5x5, kernel_size=3, padding=1),\n",
        "            nn.BatchNorm2d(n_channels5x5),\n",
        "            nn.ReLU(True),\n",
        "        )\n",
        " \n",
        "        # 3x3 pool -> 1x1 conv branch (1x1병목계층)(3x3 맥스풀링 한 다음에 1x1 컨볼루션 수행)\n",
        "        self.block4 = nn.Sequential(\n",
        "            nn.MaxPool2d(3, stride=1, padding=1),\n",
        "            nn.Conv2d(input_planes, pooling_planes, kernel_size=1),\n",
        "            nn.BatchNorm2d(pooling_planes),\n",
        "            nn.ReLU(True),\n",
        "        )\n",
        " \n",
        "    def forward(self, ip):\n",
        "        op1 = self.block1(ip)\n",
        "        op2 = self.block2(ip)\n",
        "        op3 = self.block3(ip)\n",
        "        op4 = self.block4(ip)\n",
        "        return torch.cat([op1,op2,op3,op4], 1)"
      ]
    },
    {
      "cell_type": "code",
      "execution_count": null,
      "metadata": {
        "id": "ibSaLlkSJDR4"
      },
      "outputs": [],
      "source": [
        "class GoogLeNet(nn.Module):\n",
        "    def __init__(self):\n",
        "        super(GoogLeNet, self).__init__()\n",
        "        # 스템 : CONV-POOL-CONV-CONV-POOL\n",
        "        self.stem = nn.Sequential(\n",
        "            nn.Conv2d(3, 192, kernel_size=3, padding=1),\n",
        "            nn.BatchNorm2d(192),\n",
        "            nn.ReLU(True),\n",
        "        )\n",
        " \n",
        "        # 몸체  : 인셉션 모듈 9개 쌓은 구조 / 1,3,8번째 맥스풀링→액티베이션 맵 크기 줄이기\n",
        "        self.im1 = InceptionModule(192,  64,  96, 128, 16, 32, 32)\n",
        "        self.im2 = InceptionModule(256, 128, 128, 192, 32, 96, 64)\n",
        " \n",
        "        self.max_pool = nn.MaxPool2d(3, stride=2, padding=1)\n",
        " \n",
        "        self.im3 = InceptionModule(480, 192,  96, 208, 16,  48,  64)\n",
        "        self.im4 = InceptionModule(512, 160, 112, 224, 24,  64,  64)\n",
        "        self.im5 = InceptionModule(512, 128, 128, 256, 24,  64,  64)\n",
        "        self.im6 = InceptionModule(512, 112, 144, 288, 32,  64,  64)\n",
        "        self.im7 = InceptionModule(528, 256, 160, 320, 32, 128, 128)\n",
        " \n",
        "        self.im8 = InceptionModule(832, 256, 160, 320, 32, 128, 128)\n",
        "        self.im9 = InceptionModule(832, 384, 192, 384, 48, 128, 128)\n",
        " \n",
        "        # 7x7 평균풀링계층 : 모델의 매개변수를 줄임으로서 과적합 줄임\n",
        "        self.average_pool = nn.AvgPool2d(7, stride=1)\n",
        "        self.fc = nn.Linear(4096, 1000)\n",
        " \n",
        "    def forward(self, ip):\n",
        "        # 스템\n",
        "        op = self.stem(ip)\n",
        "        # 몸체\n",
        "        out = self.im1(op)\n",
        "        out = self.im2(op)\n",
        "        op = self.maxpool(op)\n",
        "        op = self.a4(op)\n",
        "        op = self.b4(op)\n",
        "        op = self.c4(op)\n",
        "        op = self.d4(op)\n",
        "        op = self.e4(op)\n",
        "        op = self.max_pool(op)\n",
        "        op = self.a5(op)\n",
        "        op = self.b5(op)\n",
        "        # 최종분류기 : 완전연결계층 대신 평균풀링을 사용해서 파라미터 수 대폭 줄임\n",
        "        op = self.avgerage_pool(op) \n",
        "        op = op.view(op.size(0), -1) \n",
        "        op = self.fc(op)\n",
        "        return op"
      ]
    },
    {
      "cell_type": "code",
      "execution_count": null,
      "metadata": {
        "id": "aRJouUFoJDR5"
      },
      "outputs": [],
      "source": []
    }
  ],
  "metadata": {
    "kernelspec": {
      "display_name": "Python 3",
      "language": "python",
      "name": "python3"
    },
    "language_info": {
      "codemirror_mode": {
        "name": "ipython",
        "version": 3
      },
      "file_extension": ".py",
      "mimetype": "text/x-python",
      "name": "python",
      "nbconvert_exporter": "python",
      "pygments_lexer": "ipython3",
      "version": "3.7.6"
    },
    "colab": {
      "provenance": [],
      "collapsed_sections": [],
      "include_colab_link": true
    }
  },
  "nbformat": 4,
  "nbformat_minor": 0
}